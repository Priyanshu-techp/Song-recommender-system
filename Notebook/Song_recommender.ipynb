{
 "cells": [
  {
   "cell_type": "code",
   "execution_count": 1,
   "id": "3ab3946a",
   "metadata": {},
   "outputs": [],
   "source": [
    "import pandas as pd\n",
    "import numpy as np \n",
    "import warnings\n",
    "warnings.filterwarnings('ignore')"
   ]
  },
  {
   "cell_type": "code",
   "execution_count": 2,
   "id": "2b66f193",
   "metadata": {},
   "outputs": [],
   "source": [
    "df = pd.read_csv('../Data/spotify_library.csv')"
   ]
  },
  {
   "cell_type": "code",
   "execution_count": 3,
   "metadata": {},
   "outputs": [
    {
     "data": {
      "text/html": [
       "<div>\n",
       "<style scoped>\n",
       "    .dataframe tbody tr th:only-of-type {\n",
       "        vertical-align: middle;\n",
       "    }\n",
       "\n",
       "    .dataframe tbody tr th {\n",
       "        vertical-align: top;\n",
       "    }\n",
       "\n",
       "    .dataframe thead th {\n",
       "        text-align: right;\n",
       "    }\n",
       "</style>\n",
       "<table border=\"1\" class=\"dataframe\">\n",
       "  <thead>\n",
       "    <tr style=\"text-align: right;\">\n",
       "      <th></th>\n",
       "      <th>Track ID</th>\n",
       "      <th>Track Name</th>\n",
       "      <th>Artist(s)</th>\n",
       "      <th>Spotify URL</th>\n",
       "      <th>Artist Name</th>\n",
       "      <th>Genres</th>\n",
       "      <th>Album Name</th>\n",
       "      <th>Album Type</th>\n",
       "      <th>Label</th>\n",
       "      <th>Album Image URL</th>\n",
       "    </tr>\n",
       "  </thead>\n",
       "  <tbody>\n",
       "    <tr>\n",
       "      <th>0</th>\n",
       "      <td>3lWzVNe1yFZlkeBBzUuZYu</td>\n",
       "      <td>Bella Ciao - Música Original de la Serie la Ca...</td>\n",
       "      <td>Manu Pilas</td>\n",
       "      <td>https://open.spotify.com/track/3lWzVNe1yFZlkeB...</td>\n",
       "      <td>Manu Pilas</td>\n",
       "      <td>NaN</td>\n",
       "      <td>Bella Ciao (Música Original de la Serie la Cas...</td>\n",
       "      <td>single</td>\n",
       "      <td>NaN</td>\n",
       "      <td>https://i.scdn.co/image/ab67616d0000b273f3c7e4...</td>\n",
       "    </tr>\n",
       "    <tr>\n",
       "      <th>1</th>\n",
       "      <td>58wyJLv6yH1La9NIZPl3ne</td>\n",
       "      <td>Can We Kiss Forever?</td>\n",
       "      <td>Kina, Adriana Proenza</td>\n",
       "      <td>https://open.spotify.com/track/58wyJLv6yH1La9N...</td>\n",
       "      <td>Kina</td>\n",
       "      <td>NaN</td>\n",
       "      <td>Can We Kiss Forever?</td>\n",
       "      <td>single</td>\n",
       "      <td>NaN</td>\n",
       "      <td>https://i.scdn.co/image/ab67616d0000b273135847...</td>\n",
       "    </tr>\n",
       "    <tr>\n",
       "      <th>2</th>\n",
       "      <td>4w8niZpiMy6qz1mntFA5uM</td>\n",
       "      <td>Taki Taki (with Selena Gomez, Ozuna &amp; Cardi B)</td>\n",
       "      <td>DJ Snake, Selena Gomez, Ozuna, Cardi B</td>\n",
       "      <td>https://open.spotify.com/track/4w8niZpiMy6qz1m...</td>\n",
       "      <td>DJ Snake</td>\n",
       "      <td>NaN</td>\n",
       "      <td>Taki Taki (with Selena Gomez, Ozuna &amp; Cardi B)</td>\n",
       "      <td>single</td>\n",
       "      <td>NaN</td>\n",
       "      <td>https://i.scdn.co/image/ab67616d0000b273e105c4...</td>\n",
       "    </tr>\n",
       "    <tr>\n",
       "      <th>3</th>\n",
       "      <td>0b11D9D0hMOYCIMN3OKreM</td>\n",
       "      <td>Into Your Arms (feat. Ava Max)</td>\n",
       "      <td>Witt Lowry, Ava Max</td>\n",
       "      <td>https://open.spotify.com/track/0b11D9D0hMOYCIM...</td>\n",
       "      <td>Witt Lowry</td>\n",
       "      <td>NaN</td>\n",
       "      <td>Into Your Arms (feat. Ava Max)</td>\n",
       "      <td>single</td>\n",
       "      <td>NaN</td>\n",
       "      <td>https://i.scdn.co/image/ab67616d0000b27378023c...</td>\n",
       "    </tr>\n",
       "    <tr>\n",
       "      <th>4</th>\n",
       "      <td>2plbrEY59IikOBgBGLjaoe</td>\n",
       "      <td>Die With A Smile</td>\n",
       "      <td>Lady Gaga, Bruno Mars</td>\n",
       "      <td>https://open.spotify.com/track/2plbrEY59IikOBg...</td>\n",
       "      <td>Lady Gaga</td>\n",
       "      <td>art pop, pop</td>\n",
       "      <td>Die With A Smile</td>\n",
       "      <td>single</td>\n",
       "      <td>NaN</td>\n",
       "      <td>https://i.scdn.co/image/ab67616d0000b27382ea2e...</td>\n",
       "    </tr>\n",
       "    <tr>\n",
       "      <th>...</th>\n",
       "      <td>...</td>\n",
       "      <td>...</td>\n",
       "      <td>...</td>\n",
       "      <td>...</td>\n",
       "      <td>...</td>\n",
       "      <td>...</td>\n",
       "      <td>...</td>\n",
       "      <td>...</td>\n",
       "      <td>...</td>\n",
       "      <td>...</td>\n",
       "    </tr>\n",
       "    <tr>\n",
       "      <th>2540</th>\n",
       "      <td>5J9L7IbadCt0ivs9xmNrr0</td>\n",
       "      <td>Ranjheya Ve</td>\n",
       "      <td>Zain Zohaib</td>\n",
       "      <td>https://open.spotify.com/track/5J9L7IbadCt0ivs...</td>\n",
       "      <td>Zain Zohaib</td>\n",
       "      <td>qawwali, sufi, ghazal</td>\n",
       "      <td>Ranjheya Ve</td>\n",
       "      <td>single</td>\n",
       "      <td>NaN</td>\n",
       "      <td>https://i.scdn.co/image/ab67616d0000b27354176b...</td>\n",
       "    </tr>\n",
       "    <tr>\n",
       "      <th>2541</th>\n",
       "      <td>1UWacd8x8tPPwmrPB1MoBI</td>\n",
       "      <td>Ae Dil Hai Mushkil Title Track</td>\n",
       "      <td>Pritam, Arijit Singh</td>\n",
       "      <td>https://open.spotify.com/track/1UWacd8x8tPPwmr...</td>\n",
       "      <td>Pritam</td>\n",
       "      <td>bollywood, hindi pop, desi</td>\n",
       "      <td>Ae Dil Hai Mushkil (Original Motion Picture So...</td>\n",
       "      <td>album</td>\n",
       "      <td>NaN</td>\n",
       "      <td>https://i.scdn.co/image/ab67616d0000b273bca306...</td>\n",
       "    </tr>\n",
       "    <tr>\n",
       "      <th>2542</th>\n",
       "      <td>24b9eObMccIrDSs3NvdrRd</td>\n",
       "      <td>Milne Hai Mujhse Aayi (From \"Aashiqui 2\")</td>\n",
       "      <td>Arijit Singh</td>\n",
       "      <td>https://open.spotify.com/track/24b9eObMccIrDSs...</td>\n",
       "      <td>Arijit Singh</td>\n",
       "      <td>hindi pop, bollywood, desi, bangla pop</td>\n",
       "      <td>Arijit Singh Broken Strings</td>\n",
       "      <td>compilation</td>\n",
       "      <td>NaN</td>\n",
       "      <td>https://i.scdn.co/image/ab67616d0000b273c486f7...</td>\n",
       "    </tr>\n",
       "    <tr>\n",
       "      <th>2543</th>\n",
       "      <td>43YkTTlOD203o9E5ZxhUjF</td>\n",
       "      <td>Main Dhoondne Ko Zamaane Mein (From \"Heartless\")</td>\n",
       "      <td>Arijit Singh</td>\n",
       "      <td>https://open.spotify.com/track/43YkTTlOD203o9E...</td>\n",
       "      <td>Arijit Singh</td>\n",
       "      <td>hindi pop, bollywood, desi, bangla pop</td>\n",
       "      <td>Arijit Singh Broken Strings</td>\n",
       "      <td>compilation</td>\n",
       "      <td>NaN</td>\n",
       "      <td>https://i.scdn.co/image/ab67616d0000b273c486f7...</td>\n",
       "    </tr>\n",
       "    <tr>\n",
       "      <th>2544</th>\n",
       "      <td>6bmmHeCvZI92pRiTHxEdTC</td>\n",
       "      <td>O Maahi</td>\n",
       "      <td>Pritam, Arijit Singh, Irshad Kamil</td>\n",
       "      <td>https://open.spotify.com/track/6bmmHeCvZI92pRi...</td>\n",
       "      <td>Pritam</td>\n",
       "      <td>bollywood, hindi pop, desi</td>\n",
       "      <td>Dunki</td>\n",
       "      <td>album</td>\n",
       "      <td>NaN</td>\n",
       "      <td>https://i.scdn.co/image/ab67616d0000b273ab1e3b...</td>\n",
       "    </tr>\n",
       "  </tbody>\n",
       "</table>\n",
       "<p>2545 rows × 10 columns</p>\n",
       "</div>"
      ],
      "text/plain": [
       "                    Track ID  \\\n",
       "0     3lWzVNe1yFZlkeBBzUuZYu   \n",
       "1     58wyJLv6yH1La9NIZPl3ne   \n",
       "2     4w8niZpiMy6qz1mntFA5uM   \n",
       "3     0b11D9D0hMOYCIMN3OKreM   \n",
       "4     2plbrEY59IikOBgBGLjaoe   \n",
       "...                      ...   \n",
       "2540  5J9L7IbadCt0ivs9xmNrr0   \n",
       "2541  1UWacd8x8tPPwmrPB1MoBI   \n",
       "2542  24b9eObMccIrDSs3NvdrRd   \n",
       "2543  43YkTTlOD203o9E5ZxhUjF   \n",
       "2544  6bmmHeCvZI92pRiTHxEdTC   \n",
       "\n",
       "                                             Track Name  \\\n",
       "0     Bella Ciao - Música Original de la Serie la Ca...   \n",
       "1                                  Can We Kiss Forever?   \n",
       "2        Taki Taki (with Selena Gomez, Ozuna & Cardi B)   \n",
       "3                        Into Your Arms (feat. Ava Max)   \n",
       "4                                      Die With A Smile   \n",
       "...                                                 ...   \n",
       "2540                                        Ranjheya Ve   \n",
       "2541                     Ae Dil Hai Mushkil Title Track   \n",
       "2542          Milne Hai Mujhse Aayi (From \"Aashiqui 2\")   \n",
       "2543   Main Dhoondne Ko Zamaane Mein (From \"Heartless\")   \n",
       "2544                                            O Maahi   \n",
       "\n",
       "                                   Artist(s)  \\\n",
       "0                                 Manu Pilas   \n",
       "1                      Kina, Adriana Proenza   \n",
       "2     DJ Snake, Selena Gomez, Ozuna, Cardi B   \n",
       "3                        Witt Lowry, Ava Max   \n",
       "4                      Lady Gaga, Bruno Mars   \n",
       "...                                      ...   \n",
       "2540                             Zain Zohaib   \n",
       "2541                    Pritam, Arijit Singh   \n",
       "2542                            Arijit Singh   \n",
       "2543                            Arijit Singh   \n",
       "2544      Pritam, Arijit Singh, Irshad Kamil   \n",
       "\n",
       "                                            Spotify URL   Artist Name  \\\n",
       "0     https://open.spotify.com/track/3lWzVNe1yFZlkeB...    Manu Pilas   \n",
       "1     https://open.spotify.com/track/58wyJLv6yH1La9N...          Kina   \n",
       "2     https://open.spotify.com/track/4w8niZpiMy6qz1m...      DJ Snake   \n",
       "3     https://open.spotify.com/track/0b11D9D0hMOYCIM...    Witt Lowry   \n",
       "4     https://open.spotify.com/track/2plbrEY59IikOBg...     Lady Gaga   \n",
       "...                                                 ...           ...   \n",
       "2540  https://open.spotify.com/track/5J9L7IbadCt0ivs...   Zain Zohaib   \n",
       "2541  https://open.spotify.com/track/1UWacd8x8tPPwmr...        Pritam   \n",
       "2542  https://open.spotify.com/track/24b9eObMccIrDSs...  Arijit Singh   \n",
       "2543  https://open.spotify.com/track/43YkTTlOD203o9E...  Arijit Singh   \n",
       "2544  https://open.spotify.com/track/6bmmHeCvZI92pRi...        Pritam   \n",
       "\n",
       "                                      Genres  \\\n",
       "0                                        NaN   \n",
       "1                                        NaN   \n",
       "2                                        NaN   \n",
       "3                                        NaN   \n",
       "4                               art pop, pop   \n",
       "...                                      ...   \n",
       "2540                   qawwali, sufi, ghazal   \n",
       "2541              bollywood, hindi pop, desi   \n",
       "2542  hindi pop, bollywood, desi, bangla pop   \n",
       "2543  hindi pop, bollywood, desi, bangla pop   \n",
       "2544              bollywood, hindi pop, desi   \n",
       "\n",
       "                                             Album Name   Album Type  Label  \\\n",
       "0     Bella Ciao (Música Original de la Serie la Cas...       single    NaN   \n",
       "1                                  Can We Kiss Forever?       single    NaN   \n",
       "2        Taki Taki (with Selena Gomez, Ozuna & Cardi B)       single    NaN   \n",
       "3                        Into Your Arms (feat. Ava Max)       single    NaN   \n",
       "4                                      Die With A Smile       single    NaN   \n",
       "...                                                 ...          ...    ...   \n",
       "2540                                        Ranjheya Ve       single    NaN   \n",
       "2541  Ae Dil Hai Mushkil (Original Motion Picture So...        album    NaN   \n",
       "2542                        Arijit Singh Broken Strings  compilation    NaN   \n",
       "2543                        Arijit Singh Broken Strings  compilation    NaN   \n",
       "2544                                              Dunki        album    NaN   \n",
       "\n",
       "                                        Album Image URL  \n",
       "0     https://i.scdn.co/image/ab67616d0000b273f3c7e4...  \n",
       "1     https://i.scdn.co/image/ab67616d0000b273135847...  \n",
       "2     https://i.scdn.co/image/ab67616d0000b273e105c4...  \n",
       "3     https://i.scdn.co/image/ab67616d0000b27378023c...  \n",
       "4     https://i.scdn.co/image/ab67616d0000b27382ea2e...  \n",
       "...                                                 ...  \n",
       "2540  https://i.scdn.co/image/ab67616d0000b27354176b...  \n",
       "2541  https://i.scdn.co/image/ab67616d0000b273bca306...  \n",
       "2542  https://i.scdn.co/image/ab67616d0000b273c486f7...  \n",
       "2543  https://i.scdn.co/image/ab67616d0000b273c486f7...  \n",
       "2544  https://i.scdn.co/image/ab67616d0000b273ab1e3b...  \n",
       "\n",
       "[2545 rows x 10 columns]"
      ]
     },
     "execution_count": 3,
     "metadata": {},
     "output_type": "execute_result"
    }
   ],
   "source": [
    "df"
   ]
  },
  {
   "cell_type": "markdown",
   "id": "15f2179c",
   "metadata": {},
   "source": [
    "# EDA"
   ]
  },
  {
   "cell_type": "code",
   "execution_count": 4,
   "id": "45f90f5c",
   "metadata": {},
   "outputs": [
    {
     "data": {
      "text/plain": [
       "(2545, 10)"
      ]
     },
     "execution_count": 4,
     "metadata": {},
     "output_type": "execute_result"
    }
   ],
   "source": [
    "df.shape"
   ]
  },
  {
   "cell_type": "code",
   "execution_count": 5,
   "id": "12a71401",
   "metadata": {},
   "outputs": [
    {
     "name": "stdout",
     "output_type": "stream",
     "text": [
      "<class 'pandas.core.frame.DataFrame'>\n",
      "RangeIndex: 2545 entries, 0 to 2544\n",
      "Data columns (total 10 columns):\n",
      " #   Column           Non-Null Count  Dtype  \n",
      "---  ------           --------------  -----  \n",
      " 0   Track ID         2545 non-null   object \n",
      " 1   Track Name       2544 non-null   object \n",
      " 2   Artist(s)        2544 non-null   object \n",
      " 3   Spotify URL      2545 non-null   object \n",
      " 4   Artist Name      2545 non-null   object \n",
      " 5   Genres           1976 non-null   object \n",
      " 6   Album Name       2544 non-null   object \n",
      " 7   Album Type       2545 non-null   object \n",
      " 8   Label            0 non-null      float64\n",
      " 9   Album Image URL  2544 non-null   object \n",
      "dtypes: float64(1), object(9)\n",
      "memory usage: 199.0+ KB\n"
     ]
    }
   ],
   "source": [
    "df.info()"
   ]
  },
  {
   "cell_type": "code",
   "execution_count": 6,
   "id": "96b0dbb5",
   "metadata": {},
   "outputs": [
    {
     "data": {
      "text/plain": [
       "Track ID              0\n",
       "Track Name            1\n",
       "Artist(s)             1\n",
       "Spotify URL           0\n",
       "Artist Name           0\n",
       "Genres              569\n",
       "Album Name            1\n",
       "Album Type            0\n",
       "Label              2545\n",
       "Album Image URL       1\n",
       "dtype: int64"
      ]
     },
     "execution_count": 6,
     "metadata": {},
     "output_type": "execute_result"
    }
   ],
   "source": [
    "df.isnull().sum()"
   ]
  },
  {
   "cell_type": "code",
   "execution_count": 7,
   "id": "8bafcb78",
   "metadata": {},
   "outputs": [
    {
     "data": {
      "text/plain": [
       "0"
      ]
     },
     "execution_count": 7,
     "metadata": {},
     "output_type": "execute_result"
    }
   ],
   "source": [
    "df.duplicated().sum()"
   ]
  },
  {
   "cell_type": "markdown",
   "id": "4dc99f3c",
   "metadata": {},
   "source": [
    "# Data cleaning and data preprocessing"
   ]
  },
  {
   "cell_type": "code",
   "execution_count": 8,
   "id": "4d930897",
   "metadata": {},
   "outputs": [],
   "source": [
    "columns = ['Track ID', 'Track Name', 'Artist(s)', 'Spotify URL', 'Artist Name',\n",
    "       'Genres', 'Album Name', 'Album Type', 'Album Image URL']\n",
    "for col in columns:\n",
    "    df[col] = df[col].fillna(df[col].mode()[0])"
   ]
  },
  {
   "cell_type": "code",
   "execution_count": 9,
   "id": "31727b29",
   "metadata": {},
   "outputs": [
    {
     "data": {
      "text/html": [
       "<div>\n",
       "<style scoped>\n",
       "    .dataframe tbody tr th:only-of-type {\n",
       "        vertical-align: middle;\n",
       "    }\n",
       "\n",
       "    .dataframe tbody tr th {\n",
       "        vertical-align: top;\n",
       "    }\n",
       "\n",
       "    .dataframe thead th {\n",
       "        text-align: right;\n",
       "    }\n",
       "</style>\n",
       "<table border=\"1\" class=\"dataframe\">\n",
       "  <thead>\n",
       "    <tr style=\"text-align: right;\">\n",
       "      <th></th>\n",
       "      <th>Track ID</th>\n",
       "      <th>Track Name</th>\n",
       "      <th>Artist(s)</th>\n",
       "      <th>Spotify URL</th>\n",
       "      <th>Artist Name</th>\n",
       "      <th>Genres</th>\n",
       "      <th>Album Name</th>\n",
       "      <th>Album Type</th>\n",
       "      <th>Label</th>\n",
       "      <th>Album Image URL</th>\n",
       "    </tr>\n",
       "  </thead>\n",
       "  <tbody>\n",
       "    <tr>\n",
       "      <th>0</th>\n",
       "      <td>3lWzVNe1yFZlkeBBzUuZYu</td>\n",
       "      <td>Bella Ciao - Música Original de la Serie la Ca...</td>\n",
       "      <td>Manu Pilas</td>\n",
       "      <td>https://open.spotify.com/track/3lWzVNe1yFZlkeB...</td>\n",
       "      <td>Manu Pilas</td>\n",
       "      <td>phonk, brazilian phonk</td>\n",
       "      <td>Bella Ciao (Música Original de la Serie la Cas...</td>\n",
       "      <td>single</td>\n",
       "      <td>NaN</td>\n",
       "      <td>https://i.scdn.co/image/ab67616d0000b273f3c7e4...</td>\n",
       "    </tr>\n",
       "    <tr>\n",
       "      <th>1</th>\n",
       "      <td>58wyJLv6yH1La9NIZPl3ne</td>\n",
       "      <td>Can We Kiss Forever?</td>\n",
       "      <td>Kina, Adriana Proenza</td>\n",
       "      <td>https://open.spotify.com/track/58wyJLv6yH1La9N...</td>\n",
       "      <td>Kina</td>\n",
       "      <td>phonk, brazilian phonk</td>\n",
       "      <td>Can We Kiss Forever?</td>\n",
       "      <td>single</td>\n",
       "      <td>NaN</td>\n",
       "      <td>https://i.scdn.co/image/ab67616d0000b273135847...</td>\n",
       "    </tr>\n",
       "  </tbody>\n",
       "</table>\n",
       "</div>"
      ],
      "text/plain": [
       "                 Track ID                                         Track Name  \\\n",
       "0  3lWzVNe1yFZlkeBBzUuZYu  Bella Ciao - Música Original de la Serie la Ca...   \n",
       "1  58wyJLv6yH1La9NIZPl3ne                               Can We Kiss Forever?   \n",
       "\n",
       "               Artist(s)                                        Spotify URL  \\\n",
       "0             Manu Pilas  https://open.spotify.com/track/3lWzVNe1yFZlkeB...   \n",
       "1  Kina, Adriana Proenza  https://open.spotify.com/track/58wyJLv6yH1La9N...   \n",
       "\n",
       "  Artist Name                  Genres  \\\n",
       "0  Manu Pilas  phonk, brazilian phonk   \n",
       "1        Kina  phonk, brazilian phonk   \n",
       "\n",
       "                                          Album Name Album Type  Label  \\\n",
       "0  Bella Ciao (Música Original de la Serie la Cas...     single    NaN   \n",
       "1                               Can We Kiss Forever?     single    NaN   \n",
       "\n",
       "                                     Album Image URL  \n",
       "0  https://i.scdn.co/image/ab67616d0000b273f3c7e4...  \n",
       "1  https://i.scdn.co/image/ab67616d0000b273135847...  "
      ]
     },
     "execution_count": 9,
     "metadata": {},
     "output_type": "execute_result"
    }
   ],
   "source": [
    "df.head(2)"
   ]
  },
  {
   "cell_type": "markdown",
   "id": "94a4e9cb",
   "metadata": {},
   "source": [
    "### Create a required column data set"
   ]
  },
  {
   "cell_type": "code",
   "execution_count": 10,
   "id": "a9c35c6a",
   "metadata": {},
   "outputs": [],
   "source": [
    "refine_df = df[['Track Name', 'Artist(s)', 'Artist Name', 'Genres', 'Album Name', 'Album Type']]"
   ]
  },
  {
   "cell_type": "markdown",
   "id": "61e52e9b",
   "metadata": {},
   "source": [
    "### Remove the spaces"
   ]
  },
  {
   "cell_type": "code",
   "execution_count": 11,
   "id": "7fce1575",
   "metadata": {},
   "outputs": [],
   "source": [
    "columns = ['Artist(s)', 'Artist Name', 'Genres', 'Album Name', 'Album Type']\n",
    "for col in columns:\n",
    "    refine_df[col] = refine_df[col].astype(str).str.replace(\" \",\"\")"
   ]
  },
  {
   "cell_type": "code",
   "execution_count": 12,
   "id": "3740fa7a",
   "metadata": {},
   "outputs": [
    {
     "data": {
      "text/html": [
       "<div>\n",
       "<style scoped>\n",
       "    .dataframe tbody tr th:only-of-type {\n",
       "        vertical-align: middle;\n",
       "    }\n",
       "\n",
       "    .dataframe tbody tr th {\n",
       "        vertical-align: top;\n",
       "    }\n",
       "\n",
       "    .dataframe thead th {\n",
       "        text-align: right;\n",
       "    }\n",
       "</style>\n",
       "<table border=\"1\" class=\"dataframe\">\n",
       "  <thead>\n",
       "    <tr style=\"text-align: right;\">\n",
       "      <th></th>\n",
       "      <th>Track Name</th>\n",
       "      <th>Artist(s)</th>\n",
       "      <th>Artist Name</th>\n",
       "      <th>Genres</th>\n",
       "      <th>Album Name</th>\n",
       "      <th>Album Type</th>\n",
       "    </tr>\n",
       "  </thead>\n",
       "  <tbody>\n",
       "    <tr>\n",
       "      <th>0</th>\n",
       "      <td>Bella Ciao - Música Original de la Serie la Ca...</td>\n",
       "      <td>ManuPilas</td>\n",
       "      <td>ManuPilas</td>\n",
       "      <td>phonk,brazilianphonk</td>\n",
       "      <td>BellaCiao(MúsicaOriginaldelaSerielaCasadePapel...</td>\n",
       "      <td>single</td>\n",
       "    </tr>\n",
       "    <tr>\n",
       "      <th>1</th>\n",
       "      <td>Can We Kiss Forever?</td>\n",
       "      <td>Kina,AdrianaProenza</td>\n",
       "      <td>Kina</td>\n",
       "      <td>phonk,brazilianphonk</td>\n",
       "      <td>CanWeKissForever?</td>\n",
       "      <td>single</td>\n",
       "    </tr>\n",
       "  </tbody>\n",
       "</table>\n",
       "</div>"
      ],
      "text/plain": [
       "                                          Track Name            Artist(s)  \\\n",
       "0  Bella Ciao - Música Original de la Serie la Ca...            ManuPilas   \n",
       "1                               Can We Kiss Forever?  Kina,AdrianaProenza   \n",
       "\n",
       "  Artist Name                Genres  \\\n",
       "0   ManuPilas  phonk,brazilianphonk   \n",
       "1        Kina  phonk,brazilianphonk   \n",
       "\n",
       "                                          Album Name Album Type  \n",
       "0  BellaCiao(MúsicaOriginaldelaSerielaCasadePapel...     single  \n",
       "1                                  CanWeKissForever?     single  "
      ]
     },
     "execution_count": 12,
     "metadata": {},
     "output_type": "execute_result"
    }
   ],
   "source": [
    "refine_df.head(2)"
   ]
  },
  {
   "cell_type": "code",
   "execution_count": 13,
   "id": "0f30f871",
   "metadata": {},
   "outputs": [],
   "source": [
    "refine_df['Song_tag'] = refine_df['Artist(s)'] + \" \" + refine_df['Artist Name'] + \" \" + refine_df['Genres'] + \" \" + refine_df['Album Name'] + \" \" + refine_df['Album Type']"
   ]
  },
  {
   "cell_type": "code",
   "execution_count": 14,
   "id": "b1404c84",
   "metadata": {},
   "outputs": [
    {
     "data": {
      "text/plain": [
       "0       ManuPilas ManuPilas phonk,brazilianphonk Bella...\n",
       "1       Kina,AdrianaProenza Kina phonk,brazilianphonk ...\n",
       "2       DJSnake,SelenaGomez,Ozuna,CardiB DJSnake phonk...\n",
       "3       WittLowry,AvaMax WittLowry phonk,brazilianphon...\n",
       "4       LadyGaga,BrunoMars LadyGaga artpop,pop DieWith...\n",
       "                              ...                        \n",
       "2540    ZainZohaib ZainZohaib qawwali,sufi,ghazal Ranj...\n",
       "2541    Pritam,ArijitSingh Pritam bollywood,hindipop,d...\n",
       "2542    ArijitSingh ArijitSingh hindipop,bollywood,des...\n",
       "2543    ArijitSingh ArijitSingh hindipop,bollywood,des...\n",
       "2544    Pritam,ArijitSingh,IrshadKamil Pritam bollywoo...\n",
       "Name: Song_tag, Length: 2545, dtype: object"
      ]
     },
     "execution_count": 14,
     "metadata": {},
     "output_type": "execute_result"
    }
   ],
   "source": [
    "refine_df['Song_tag']"
   ]
  },
  {
   "cell_type": "code",
   "execution_count": 15,
   "id": "b5198773",
   "metadata": {},
   "outputs": [],
   "source": [
    "final_df = refine_df[['Track Name', 'Song_tag']]"
   ]
  },
  {
   "cell_type": "code",
   "execution_count": 16,
   "id": "a70ced06",
   "metadata": {},
   "outputs": [],
   "source": [
    "final_df['Song_tag'] = final_df['Song_tag'].str.lower()"
   ]
  },
  {
   "cell_type": "code",
   "execution_count": 17,
   "id": "70ff60bc",
   "metadata": {},
   "outputs": [
    {
     "data": {
      "text/html": [
       "<div>\n",
       "<style scoped>\n",
       "    .dataframe tbody tr th:only-of-type {\n",
       "        vertical-align: middle;\n",
       "    }\n",
       "\n",
       "    .dataframe tbody tr th {\n",
       "        vertical-align: top;\n",
       "    }\n",
       "\n",
       "    .dataframe thead th {\n",
       "        text-align: right;\n",
       "    }\n",
       "</style>\n",
       "<table border=\"1\" class=\"dataframe\">\n",
       "  <thead>\n",
       "    <tr style=\"text-align: right;\">\n",
       "      <th></th>\n",
       "      <th>Track Name</th>\n",
       "      <th>Song_tag</th>\n",
       "    </tr>\n",
       "  </thead>\n",
       "  <tbody>\n",
       "    <tr>\n",
       "      <th>0</th>\n",
       "      <td>Bella Ciao - Música Original de la Serie la Ca...</td>\n",
       "      <td>manupilas manupilas phonk,brazilianphonk bella...</td>\n",
       "    </tr>\n",
       "    <tr>\n",
       "      <th>1</th>\n",
       "      <td>Can We Kiss Forever?</td>\n",
       "      <td>kina,adrianaproenza kina phonk,brazilianphonk ...</td>\n",
       "    </tr>\n",
       "    <tr>\n",
       "      <th>2</th>\n",
       "      <td>Taki Taki (with Selena Gomez, Ozuna &amp; Cardi B)</td>\n",
       "      <td>djsnake,selenagomez,ozuna,cardib djsnake phonk...</td>\n",
       "    </tr>\n",
       "    <tr>\n",
       "      <th>3</th>\n",
       "      <td>Into Your Arms (feat. Ava Max)</td>\n",
       "      <td>wittlowry,avamax wittlowry phonk,brazilianphon...</td>\n",
       "    </tr>\n",
       "    <tr>\n",
       "      <th>4</th>\n",
       "      <td>Die With A Smile</td>\n",
       "      <td>ladygaga,brunomars ladygaga artpop,pop diewith...</td>\n",
       "    </tr>\n",
       "    <tr>\n",
       "      <th>...</th>\n",
       "      <td>...</td>\n",
       "      <td>...</td>\n",
       "    </tr>\n",
       "    <tr>\n",
       "      <th>2540</th>\n",
       "      <td>Ranjheya Ve</td>\n",
       "      <td>zainzohaib zainzohaib qawwali,sufi,ghazal ranj...</td>\n",
       "    </tr>\n",
       "    <tr>\n",
       "      <th>2541</th>\n",
       "      <td>Ae Dil Hai Mushkil Title Track</td>\n",
       "      <td>pritam,arijitsingh pritam bollywood,hindipop,d...</td>\n",
       "    </tr>\n",
       "    <tr>\n",
       "      <th>2542</th>\n",
       "      <td>Milne Hai Mujhse Aayi (From \"Aashiqui 2\")</td>\n",
       "      <td>arijitsingh arijitsingh hindipop,bollywood,des...</td>\n",
       "    </tr>\n",
       "    <tr>\n",
       "      <th>2543</th>\n",
       "      <td>Main Dhoondne Ko Zamaane Mein (From \"Heartless\")</td>\n",
       "      <td>arijitsingh arijitsingh hindipop,bollywood,des...</td>\n",
       "    </tr>\n",
       "    <tr>\n",
       "      <th>2544</th>\n",
       "      <td>O Maahi</td>\n",
       "      <td>pritam,arijitsingh,irshadkamil pritam bollywoo...</td>\n",
       "    </tr>\n",
       "  </tbody>\n",
       "</table>\n",
       "<p>2545 rows × 2 columns</p>\n",
       "</div>"
      ],
      "text/plain": [
       "                                             Track Name  \\\n",
       "0     Bella Ciao - Música Original de la Serie la Ca...   \n",
       "1                                  Can We Kiss Forever?   \n",
       "2        Taki Taki (with Selena Gomez, Ozuna & Cardi B)   \n",
       "3                        Into Your Arms (feat. Ava Max)   \n",
       "4                                      Die With A Smile   \n",
       "...                                                 ...   \n",
       "2540                                        Ranjheya Ve   \n",
       "2541                     Ae Dil Hai Mushkil Title Track   \n",
       "2542          Milne Hai Mujhse Aayi (From \"Aashiqui 2\")   \n",
       "2543   Main Dhoondne Ko Zamaane Mein (From \"Heartless\")   \n",
       "2544                                            O Maahi   \n",
       "\n",
       "                                               Song_tag  \n",
       "0     manupilas manupilas phonk,brazilianphonk bella...  \n",
       "1     kina,adrianaproenza kina phonk,brazilianphonk ...  \n",
       "2     djsnake,selenagomez,ozuna,cardib djsnake phonk...  \n",
       "3     wittlowry,avamax wittlowry phonk,brazilianphon...  \n",
       "4     ladygaga,brunomars ladygaga artpop,pop diewith...  \n",
       "...                                                 ...  \n",
       "2540  zainzohaib zainzohaib qawwali,sufi,ghazal ranj...  \n",
       "2541  pritam,arijitsingh pritam bollywood,hindipop,d...  \n",
       "2542  arijitsingh arijitsingh hindipop,bollywood,des...  \n",
       "2543  arijitsingh arijitsingh hindipop,bollywood,des...  \n",
       "2544  pritam,arijitsingh,irshadkamil pritam bollywoo...  \n",
       "\n",
       "[2545 rows x 2 columns]"
      ]
     },
     "execution_count": 17,
     "metadata": {},
     "output_type": "execute_result"
    }
   ],
   "source": [
    "final_df"
   ]
  },
  {
   "cell_type": "code",
   "execution_count": 18,
   "id": "e4143ba7",
   "metadata": {},
   "outputs": [
    {
     "name": "stdout",
     "output_type": "stream",
     "text": [
      "Requirement already satisfied: nltk in c:\\users\\priyanshu pandey\\appdata\\local\\programs\\python\\python310\\lib\\site-packages (3.9.1)\n",
      "Requirement already satisfied: click in c:\\users\\priyanshu pandey\\appdata\\local\\programs\\python\\python310\\lib\\site-packages (from nltk) (8.2.1)\n",
      "Requirement already satisfied: joblib in c:\\users\\priyanshu pandey\\appdata\\local\\programs\\python\\python310\\lib\\site-packages (from nltk) (1.5.1)\n",
      "Requirement already satisfied: regex>=2021.8.3 in c:\\users\\priyanshu pandey\\appdata\\local\\programs\\python\\python310\\lib\\site-packages (from nltk) (2024.11.6)\n",
      "Requirement already satisfied: tqdm in c:\\users\\priyanshu pandey\\appdata\\local\\programs\\python\\python310\\lib\\site-packages (from nltk) (4.67.1)\n",
      "Requirement already satisfied: colorama in c:\\users\\priyanshu pandey\\appdata\\roaming\\python\\python310\\site-packages (from click->nltk) (0.4.6)\n"
     ]
    }
   ],
   "source": [
    "!pip install nltk"
   ]
  },
  {
   "cell_type": "code",
   "execution_count": 19,
   "id": "c001d12a",
   "metadata": {},
   "outputs": [],
   "source": [
    "from nltk.stem.porter import PorterStemmer\n",
    "ps = PorterStemmer()\n",
    "\n",
    "def stem(text):\n",
    "    y = []\n",
    "    for i in text.split():\n",
    "        y.append(ps.stem(i))   \n",
    "    return \" \".join(y)     \n",
    "\n",
    "final_df['Song_tag'] = final_df['Song_tag'].apply(stem)"
   ]
  },
  {
   "cell_type": "markdown",
   "id": "36288b0a",
   "metadata": {},
   "source": [
    "# Convert into vector"
   ]
  },
  {
   "cell_type": "code",
   "execution_count": 20,
   "id": "d2f14b99",
   "metadata": {},
   "outputs": [],
   "source": [
    "from sklearn.feature_extraction.text import TfidfVectorizer\n",
    "from sklearn.metrics.pairwise import linear_kernel\n",
    "tf_vectorizer = TfidfVectorizer(stop_words='english', max_features= 6000)\n",
    "vector = tf_vectorizer.fit_transform(final_df['Song_tag'])"
   ]
  },
  {
   "cell_type": "code",
   "execution_count": 21,
   "id": "d8235419",
   "metadata": {},
   "outputs": [],
   "source": [
    "def song_recommand(song_name):\n",
    "    try:\n",
    "        book_index = final_df[final_df['Track Name'] == song_name].index[0]\n",
    "\n",
    "        similarities = linear_kernel(vector[book_index], vector).flatten()\n",
    "\n",
    "        similar_song = similarities.argsort()[-6:-1][::-1]\n",
    "\n",
    "        print(f\"Top 5 recommendations for: {song_name}\\n\")\n",
    "        for x in similar_song:\n",
    "            print(final_df.iloc[x]['Track Name'])\n",
    "\n",
    "    except IndexError:\n",
    "        print(\"Book is not present in dataset\")"
   ]
  },
  {
   "cell_type": "code",
   "execution_count": 22,
   "id": "e5e6ddc7",
   "metadata": {},
   "outputs": [
    {
     "name": "stdout",
     "output_type": "stream",
     "text": [
      "Top 5 recommendations for: Taki Taki (with Selena Gomez, Ozuna & Cardi B)\n",
      "\n",
      "Let Me Love You\n",
      "Something Wrong (with Don Toliver)\n",
      "I Like It\n",
      "South of the Border (feat. Camila Cabello & Cardi B)\n",
      "Girls Like You (feat. Cardi B) - Cardi B Version\n"
     ]
    }
   ],
   "source": [
    "song_recommand('Taki Taki (with Selena Gomez, Ozuna & Cardi B)')"
   ]
  },
  {
   "cell_type": "code",
   "execution_count": 23,
   "id": "bbc879cf",
   "metadata": {},
   "outputs": [
    {
     "data": {
      "text/plain": [
       "['vector.pkl']"
      ]
     },
     "execution_count": 23,
     "metadata": {},
     "output_type": "execute_result"
    }
   ],
   "source": [
    "import joblib\n",
    "joblib.dump(tf_vectorizer, 'tf_vectorizer.pkl')\n",
    "joblib.dump(vector, 'vector.pkl')"
   ]
  }
 ],
 "metadata": {
  "kernelspec": {
   "display_name": "Python 3",
   "language": "python",
   "name": "python3"
  },
  "language_info": {
   "codemirror_mode": {
    "name": "ipython",
    "version": 3
   },
   "file_extension": ".py",
   "mimetype": "text/x-python",
   "name": "python",
   "nbconvert_exporter": "python",
   "pygments_lexer": "ipython3",
   "version": "3.10.9"
  }
 },
 "nbformat": 4,
 "nbformat_minor": 5
}
